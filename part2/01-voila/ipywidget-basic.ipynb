{
 "cells": [
  {
   "cell_type": "markdown",
   "id": "04630eb0-fed2-421a-9239-065409888aba",
   "metadata": {},
   "source": [
    "# ipywidget 사용 방법 by zzsza"
   ]
  },
  {
   "cell_type": "code",
   "execution_count": 1,
   "id": "bbe4665f-0684-4470-a174-0165fb52839f",
   "metadata": {},
   "outputs": [],
   "source": [
    "import ipywidgets as widgets\n",
    "from IPython.display import display"
   ]
  },
  {
   "cell_type": "markdown",
   "id": "1311e762-a652-448f-84a7-f88a0a86b09b",
   "metadata": {},
   "source": [
    "### Numeric widgets\n",
    "- 숫자값을 표시하게 설계된 위젯\n",
    "- Int, Float, FloatLog, IntRange, FloatRange \n",
    "\n",
    "### Slider\n",
    "- Int 값을 조절할 수 있는 Slider"
   ]
  },
  {
   "cell_type": "code",
   "execution_count": 2,
   "id": "4e5d8ad0-6b6d-46c9-8071-3263016f35a7",
   "metadata": {},
   "outputs": [
    {
     "data": {
      "application/vnd.jupyter.widget-view+json": {
       "model_id": "65df0e237f2a4167ae1c2752af9b6c7e",
       "version_major": 2,
       "version_minor": 0
      },
      "text/plain": [
       "IntSlider(value=0)"
      ]
     },
     "metadata": {},
     "output_type": "display_data"
    }
   ],
   "source": [
    "widgets.IntSlider()"
   ]
  },
  {
   "cell_type": "code",
   "execution_count": 93,
   "id": "fd163d6b-da7e-4e77-8096-6f3d970e72df",
   "metadata": {},
   "outputs": [
    {
     "data": {
      "application/vnd.jupyter.widget-view+json": {
       "model_id": "59f57e8ca73e4119a19c7febdc60a0eb",
       "version_major": 2,
       "version_minor": 0
      },
      "text/plain": [
       "IntSlider(value=0)"
      ]
     },
     "metadata": {},
     "output_type": "display_data"
    }
   ],
   "source": [
    "int_slider = widgets.IntSlider()\n",
    "display(int_slider)"
   ]
  },
  {
   "cell_type": "code",
   "execution_count": 7,
   "id": "5d51219c-3792-4378-8076-dd896e004b87",
   "metadata": {},
   "outputs": [
    {
     "data": {
      "application/vnd.jupyter.widget-view+json": {
       "model_id": "107ccfcf8fb14810b91f1af72f9b8916",
       "version_major": 2,
       "version_minor": 0
      },
      "text/plain": [
       "IntSlider(value=7, description='Value:', max=10)"
      ]
     },
     "metadata": {},
     "output_type": "display_data"
    }
   ],
   "source": [
    "widgets.IntSlider(\n",
    "    value=7,\n",
    "    min=0,\n",
    "    max=10,\n",
    "    step=1,\n",
    "    orientation='horizontal',\n",
    "    description='Value:',\n",
    ")\n"
   ]
  },
  {
   "cell_type": "code",
   "execution_count": 9,
   "id": "cdbc5574-a9dd-4d43-b986-df991997b2c3",
   "metadata": {},
   "outputs": [
    {
     "data": {
      "application/vnd.jupyter.widget-view+json": {
       "model_id": "6ce42c153ea14a7eb70c2667decee799",
       "version_major": 2,
       "version_minor": 0
      },
      "text/plain": [
       "IntSlider(value=1, description='Value:', max=3, orientation='vertical')"
      ]
     },
     "metadata": {},
     "output_type": "display_data"
    }
   ],
   "source": [
    "widgets.IntSlider(\n",
    "    value=1,\n",
    "    min=0,\n",
    "    max=3,\n",
    "    step=1,\n",
    "    orientation='vertical',\n",
    "    description='Value:',\n",
    ")\n"
   ]
  },
  {
   "cell_type": "code",
   "execution_count": 10,
   "id": "15a2d5f3-9032-40c9-8112-826e9b1ca44b",
   "metadata": {},
   "outputs": [
    {
     "data": {
      "application/vnd.jupyter.widget-view+json": {
       "model_id": "3e75ba05d1734d029822671ff6678745",
       "version_major": 2,
       "version_minor": 0
      },
      "text/plain": [
       "FloatSlider(value=0.0)"
      ]
     },
     "metadata": {},
     "output_type": "display_data"
    }
   ],
   "source": [
    "widgets.FloatSlider()"
   ]
  },
  {
   "cell_type": "code",
   "execution_count": 20,
   "id": "e21ac3fb-e99e-4068-a484-8b209a02b9a3",
   "metadata": {},
   "outputs": [
    {
     "data": {
      "application/vnd.jupyter.widget-view+json": {
       "model_id": "523382430364499188d0e6cb33fd3876",
       "version_major": 2,
       "version_minor": 0
      },
      "text/plain": [
       "IntRangeSlider(value=(3, 5), description='Int Range :', max=10)"
      ]
     },
     "metadata": {},
     "output_type": "display_data"
    }
   ],
   "source": [
    "widgets.IntRangeSlider(\n",
    "    value=[3, 5],\n",
    "    min=0,\n",
    "    max=10,\n",
    "    step=1,\n",
    "    description=\"Int Range :\")"
   ]
  },
  {
   "cell_type": "markdown",
   "id": "647c6b3a-47b5-4d57-a2b5-97c578ade518",
   "metadata": {},
   "source": [
    "### Text\n",
    "- Slider 형태가 아닌 Input Box 형태\n",
    "- Bounded가 들어간 함수는 범위 제한이 존재하고, Bounded가 없는 함수는 범위 제한이 없음"
   ]
  },
  {
   "cell_type": "code",
   "execution_count": 21,
   "id": "0d259690-6cfe-4bbe-8257-ad83483a2c66",
   "metadata": {},
   "outputs": [
    {
     "data": {
      "application/vnd.jupyter.widget-view+json": {
       "model_id": "bba3a0afaf90490787b80bde4766e824",
       "version_major": 2,
       "version_minor": 0
      },
      "text/plain": [
       "BoundedIntText(value=7, description='Text:', max=10)"
      ]
     },
     "metadata": {},
     "output_type": "display_data"
    }
   ],
   "source": [
    "widgets.BoundedIntText(\n",
    "    value=7,\n",
    "    min=0,\n",
    "    max=10,\n",
    "    step=1,\n",
    "    description='Text:',\n",
    "    disabled=False\n",
    ")"
   ]
  },
  {
   "cell_type": "code",
   "execution_count": 22,
   "id": "ac6036fa-4404-4709-b8ca-69dbb5060b76",
   "metadata": {},
   "outputs": [
    {
     "data": {
      "application/vnd.jupyter.widget-view+json": {
       "model_id": "9676941d252747f4ab65933cbd4a664c",
       "version_major": 2,
       "version_minor": 0
      },
      "text/plain": [
       "IntText(value=7, description='Any:')"
      ]
     },
     "metadata": {},
     "output_type": "display_data"
    }
   ],
   "source": [
    "widgets.IntText(\n",
    "    value=7,\n",
    "    description='Any:',\n",
    "    disabled=False\n",
    ")"
   ]
  },
  {
   "cell_type": "markdown",
   "id": "5708b342-8039-47d0-8ea4-7d76cc22386b",
   "metadata": {},
   "source": [
    "### Boolean widgets\n",
    "- True, False를 표현할 수 있는 위젯\n",
    "- ToggleButton, Checkbox\n"
   ]
  },
  {
   "cell_type": "code",
   "execution_count": 34,
   "id": "6f6fae6e-d471-4bf9-baa2-6325ff61a117",
   "metadata": {},
   "outputs": [
    {
     "data": {
      "application/vnd.jupyter.widget-view+json": {
       "model_id": "15cab638beb24c72ac3741ef810dc67f",
       "version_major": 2,
       "version_minor": 0
      },
      "text/plain": [
       "ToggleButton(value=False, description='Click me', icon='check', tooltip='Description')"
      ]
     },
     "metadata": {},
     "output_type": "display_data"
    }
   ],
   "source": [
    "widgets.ToggleButton(\n",
    "    value=False,\n",
    "    description='Click me',\n",
    "    button_style='', # 'success', 'info', 'warning', 'danger' or ''\n",
    "    tooltip='Description',\n",
    "    icon='check' # FontAwesome에서 확인할 수 있음 : https://fontawesome.com/v4.7/icons/\n",
    ")"
   ]
  },
  {
   "cell_type": "code",
   "execution_count": 35,
   "id": "eef24e69-24ec-408f-8abb-a543cbfdbf16",
   "metadata": {},
   "outputs": [
    {
     "data": {
      "application/vnd.jupyter.widget-view+json": {
       "model_id": "88377f412edd42329e8aa9866a2cab1a",
       "version_major": 2,
       "version_minor": 0
      },
      "text/plain": [
       "ToggleButton(value=False, button_style='info', description='Click me(info)', icon='bath', tooltip='Description…"
      ]
     },
     "metadata": {},
     "output_type": "display_data"
    }
   ],
   "source": [
    "widgets.ToggleButton(\n",
    "    value=False,\n",
    "    description='Click me(info)',\n",
    "    button_style='info', # 'success', 'info', 'warning', 'danger' or ''\n",
    "    tooltip='Description',\n",
    "    icon='bath' # FontAwesome에서 확인할 수 있음 : https://fontawesome.com/v4.7/icons/\n",
    ")"
   ]
  },
  {
   "cell_type": "code",
   "execution_count": 39,
   "id": "d822bfb2-d30e-4fab-8ba6-b97883083c76",
   "metadata": {},
   "outputs": [
    {
     "data": {
      "application/vnd.jupyter.widget-view+json": {
       "model_id": "1208425a06624f77b92f5813619a329b",
       "version_major": 2,
       "version_minor": 0
      },
      "text/plain": [
       "ToggleButton(value=False, button_style='danger', description='Click me(danger)', icon='at', tooltip='Descripti…"
      ]
     },
     "metadata": {},
     "output_type": "display_data"
    }
   ],
   "source": [
    "widgets.ToggleButton(\n",
    "    value=False,\n",
    "    description='Click me(danger)',\n",
    "    button_style='danger', # 'success', 'info', 'warning', 'danger' or ''\n",
    "    tooltip='Description',\n",
    "    icon='at' # FontAwesome에서 확인할 수 있음 : https://fontawesome.com/v4.7/icons/\n",
    ")"
   ]
  },
  {
   "cell_type": "code",
   "execution_count": 46,
   "id": "bf9e79c2-bd63-4196-8f5a-282901ea96b7",
   "metadata": {},
   "outputs": [
    {
     "data": {
      "application/vnd.jupyter.widget-view+json": {
       "model_id": "3f709af98db04ba1a958f9a95f7ffde1",
       "version_major": 2,
       "version_minor": 0
      },
      "text/plain": [
       "ToggleButton(value=False, button_style='success', description='Click me(sucess)', icon='battery-3', tooltip='D…"
      ]
     },
     "metadata": {},
     "output_type": "display_data"
    }
   ],
   "source": [
    "widgets.ToggleButton(\n",
    "    value=False,\n",
    "    description='Click me(sucess)',\n",
    "    button_style='success', # 'success', 'info', 'warning', 'danger' or ''\n",
    "    tooltip='Description',\n",
    "    icon='battery-3' # FontAwesome에서 확인할 수 있음 : https://fontawesome.com/v4.7/icons/\n",
    ")"
   ]
  },
  {
   "cell_type": "code",
   "execution_count": 53,
   "id": "5103fe72-95d8-4b55-aede-dd50953803f7",
   "metadata": {},
   "outputs": [
    {
     "data": {
      "application/vnd.jupyter.widget-view+json": {
       "model_id": "2e922d9b228543d1af15f4421a7377c5",
       "version_major": 2,
       "version_minor": 0
      },
      "text/plain": [
       "Checkbox(value=False, description='Check me', indent=False)"
      ]
     },
     "metadata": {},
     "output_type": "display_data"
    }
   ],
   "source": [
    "widgets.Checkbox(\n",
    "    value=False,\n",
    "    description='Check me',\n",
    "    indent=False\n",
    ")"
   ]
  },
  {
   "cell_type": "markdown",
   "id": "9ed5e9a6-550f-45e1-a188-3fba1e2fbfa8",
   "metadata": {},
   "source": [
    "### Selection widgets\n",
    "- 선택을 할 수 있는 위젯\n",
    "- Dropdown, RadioButtons"
   ]
  },
  {
   "cell_type": "code",
   "execution_count": 55,
   "id": "f92b99f2-8d37-41ef-ac99-f7d327aa012a",
   "metadata": {},
   "outputs": [
    {
     "data": {
      "application/vnd.jupyter.widget-view+json": {
       "model_id": "90e73b0ab2ae40e98fa87d82d07460a0",
       "version_major": 2,
       "version_minor": 0
      },
      "text/plain": [
       "Dropdown(description='Number:', index=1, options=('1', '2', '3'), value='2')"
      ]
     },
     "metadata": {},
     "output_type": "display_data"
    }
   ],
   "source": [
    "widgets.Dropdown(\n",
    "    options=['1', '2', '3'],\n",
    "    value='2',\n",
    "    description='Number:',\n",
    "    disabled=False,\n",
    ")"
   ]
  },
  {
   "cell_type": "code",
   "execution_count": 57,
   "id": "2fb7c766-4a19-42b2-98fd-d3e14029d50c",
   "metadata": {},
   "outputs": [
    {
     "data": {
      "application/vnd.jupyter.widget-view+json": {
       "model_id": "9855493e67b041c3b72a006b14174a6d",
       "version_major": 2,
       "version_minor": 0
      },
      "text/plain": [
       "Dropdown(description='Number:', index=1, options=(('One', 1), ('Two', 2), ('Three', 3)), value=2)"
      ]
     },
     "metadata": {},
     "output_type": "display_data"
    }
   ],
   "source": [
    "widgets.Dropdown(\n",
    "    options=[('One', 1), ('Two', 2), ('Three', 3)], # (key, value) 형태\n",
    "    value=2,\n",
    "    description='Number:',\n",
    ")"
   ]
  },
  {
   "cell_type": "code",
   "execution_count": 68,
   "id": "1d157034-52cc-4f20-9007-5752bef604c5",
   "metadata": {},
   "outputs": [
    {
     "data": {
      "application/vnd.jupyter.widget-view+json": {
       "model_id": "71b11e9767494a1c998ef3baf0315815",
       "version_major": 2,
       "version_minor": 0
      },
      "text/plain": [
       "RadioButtons(description='Topping:', options=('pepperoni', 'pineapple', 'anchovies'), value='pepperoni')"
      ]
     },
     "metadata": {},
     "output_type": "display_data"
    }
   ],
   "source": [
    "widgets.RadioButtons(\n",
    "    options=['pepperoni', 'pineapple', 'anchovies'],\n",
    "    description='Topping:',\n",
    ")"
   ]
  },
  {
   "cell_type": "markdown",
   "id": "9f988439-9a67-4b4d-9041-1e86ac913a5b",
   "metadata": {},
   "source": [
    "### String widgets\n",
    "- Text를 입력할 수 있는 위젯\n",
    "- Text, Textarea"
   ]
  },
  {
   "cell_type": "code",
   "execution_count": 76,
   "id": "a7c57fb2-802a-4515-ab9c-53e5c1350f9e",
   "metadata": {},
   "outputs": [
    {
     "data": {
      "application/vnd.jupyter.widget-view+json": {
       "model_id": "4a4b93d9669a46159ef8c444b45870ec",
       "version_major": 2,
       "version_minor": 0
      },
      "text/plain": [
       "Text(value='Hello World', description='String:', placeholder='Type something')"
      ]
     },
     "metadata": {},
     "output_type": "display_data"
    }
   ],
   "source": [
    "widgets.Text(\n",
    "    value='Hello World',\n",
    "    placeholder='Type something',\n",
    "    description='String:'\n",
    ")"
   ]
  },
  {
   "cell_type": "code",
   "execution_count": 77,
   "id": "38a85091-eb55-4682-9c13-9bfdbb315c94",
   "metadata": {},
   "outputs": [
    {
     "data": {
      "application/vnd.jupyter.widget-view+json": {
       "model_id": "9d8634380ed541e5bcb5ac0643c43347",
       "version_major": 2,
       "version_minor": 0
      },
      "text/plain": [
       "Textarea(value='Hello World', description='String:', placeholder='Type something')"
      ]
     },
     "metadata": {},
     "output_type": "display_data"
    }
   ],
   "source": [
    "widgets.Textarea(\n",
    "    value='Hello World',\n",
    "    placeholder='Type something',\n",
    "    description='String:'\n",
    ")"
   ]
  },
  {
   "cell_type": "code",
   "execution_count": 80,
   "id": "6126d3c8-26c0-467e-8baf-b7a84b3dfb0d",
   "metadata": {},
   "outputs": [
    {
     "data": {
      "application/vnd.jupyter.widget-view+json": {
       "model_id": "fd195cb8f47e406292081e865bdbe355",
       "version_major": 2,
       "version_minor": 0
      },
      "text/plain": [
       "Password(description='Password:', placeholder='Enter password')"
      ]
     },
     "metadata": {},
     "output_type": "display_data"
    }
   ],
   "source": [
    "widgets.Password(\n",
    "    value='password',\n",
    "    placeholder='Enter password',\n",
    "    description='Password:'\n",
    ")"
   ]
  },
  {
   "cell_type": "markdown",
   "id": "1d6f5b1c-500a-453b-9f80-f387a204337a",
   "metadata": {},
   "source": [
    "### 그 외"
   ]
  },
  {
   "cell_type": "code",
   "execution_count": 82,
   "id": "a46eb6dd-48a1-45fc-9222-b53cf32e8060",
   "metadata": {},
   "outputs": [
    {
     "data": {
      "application/vnd.jupyter.widget-view+json": {
       "model_id": "499446d24edd4b94b066a8828a926996",
       "version_major": 2,
       "version_minor": 0
      },
      "text/plain": [
       "HBox(children=(Play(value=50, description='Press play', interval=500), IntSlider(value=0)))"
      ]
     },
     "metadata": {},
     "output_type": "display_data"
    }
   ],
   "source": [
    "play = widgets.Play(\n",
    "    value=50,\n",
    "    min=0,\n",
    "    max=100,\n",
    "    step=1,\n",
    "    interval=500,\n",
    "    description=\"Press play\",\n",
    "    disabled=False\n",
    ")\n",
    "slider = widgets.IntSlider()\n",
    "widgets.jslink((play, 'value'), (slider, 'value'))\n",
    "widgets.HBox([play, slider])"
   ]
  },
  {
   "cell_type": "code",
   "execution_count": 84,
   "id": "ae5f901a-6aaf-4489-93d2-9b7c87da5879",
   "metadata": {},
   "outputs": [
    {
     "data": {
      "application/vnd.jupyter.widget-view+json": {
       "model_id": "7d691e9b160e4b20a951cee6f7ea0dd4",
       "version_major": 2,
       "version_minor": 0
      },
      "text/plain": [
       "FileUpload(value={}, description='Upload')"
      ]
     },
     "metadata": {},
     "output_type": "display_data"
    }
   ],
   "source": [
    "widgets.FileUpload(\n",
    "    accept='',  # 허용할 확장자\n",
    "    multiple=False  # 여러 파일을 업로드하고 싶으면 True, 단일 파일은 False\n",
    ")"
   ]
  },
  {
   "cell_type": "code",
   "execution_count": 88,
   "id": "b4ce1221-6517-47bb-acd6-b4025a957bad",
   "metadata": {},
   "outputs": [
    {
     "data": {
      "application/vnd.jupyter.widget-view+json": {
       "model_id": "0afe23441fbb4b69a827022eb9bd02f5",
       "version_major": 2,
       "version_minor": 0
      },
      "text/plain": [
       "Button(description='Click Me!', style=ButtonStyle())"
      ]
     },
     "metadata": {},
     "output_type": "display_data"
    },
    {
     "data": {
      "application/vnd.jupyter.widget-view+json": {
       "model_id": "402a79e9fe154e87bcfeb17f9bd8cc3a",
       "version_major": 2,
       "version_minor": 0
      },
      "text/plain": [
       "Output()"
      ]
     },
     "metadata": {},
     "output_type": "display_data"
    }
   ],
   "source": [
    "from IPython.display import display\n",
    "button = widgets.Button(description=\"Click Me!\")\n",
    "output = widgets.Output()\n",
    "\n",
    "display(button, output)\n",
    "\n",
    "def on_button_clicked(b):\n",
    "    with output:\n",
    "        print(\"Button clicked.\")\n",
    "\n",
    "button.on_click(on_button_clicked)"
   ]
  },
  {
   "cell_type": "markdown",
   "id": "164e099a-1653-49eb-94c6-c05df12d60fc",
   "metadata": {},
   "source": [
    "## Widget Events\n",
    "- 버튼이 클릭되었을 때 특정 작업을 하고 싶은 경우 `on_click`에 함수를 넘겨주면 됨"
   ]
  },
  {
   "cell_type": "code",
   "execution_count": 90,
   "id": "1615572c-0182-4be4-805c-2fb80caa25f2",
   "metadata": {},
   "outputs": [
    {
     "data": {
      "application/vnd.jupyter.widget-view+json": {
       "model_id": "b326a2a730b342bc9aca7c0e599dbad6",
       "version_major": 2,
       "version_minor": 0
      },
      "text/plain": [
       "Button(description='Click Me!', style=ButtonStyle())"
      ]
     },
     "metadata": {},
     "output_type": "display_data"
    },
    {
     "data": {
      "application/vnd.jupyter.widget-view+json": {
       "model_id": "c1c7e64fb79f4f2b8b4b09e7ba5d35c3",
       "version_major": 2,
       "version_minor": 0
      },
      "text/plain": [
       "Output()"
      ]
     },
     "metadata": {},
     "output_type": "display_data"
    }
   ],
   "source": [
    "button = widgets.Button(description=\"Click Me!\")\n",
    "output = widgets.Output()\n",
    "\n",
    "display(button, output)\n",
    "\n",
    "def on_button_clicked(button):\n",
    "    with output:\n",
    "        print(\"Hello world!\")\n",
    "\n",
    "button.on_click(on_button_clicked)"
   ]
  },
  {
   "cell_type": "markdown",
   "id": "5b8e5b19-d2ae-4358-8f65-72957f2edba5",
   "metadata": {},
   "source": [
    "### Observe\n",
    "- 위젯의 속성이 변경될 때 업데이트해주는 위젯\n"
   ]
  },
  {
   "cell_type": "code",
   "execution_count": 118,
   "id": "c6933a37-2e20-47d0-b61f-2aeedb3d94d5",
   "metadata": {},
   "outputs": [
    {
     "data": {
      "application/vnd.jupyter.widget-view+json": {
       "model_id": "d06c4befa5c74b17825c8755e3b3fb3d",
       "version_major": 2,
       "version_minor": 0
      },
      "text/plain": [
       "IntSlider(value=0)"
      ]
     },
     "metadata": {},
     "output_type": "display_data"
    },
    {
     "data": {
      "application/vnd.jupyter.widget-view+json": {
       "model_id": "ab70070d339346de9a2a9143751b23fc",
       "version_major": 2,
       "version_minor": 0
      },
      "text/plain": [
       "Output()"
      ]
     },
     "metadata": {},
     "output_type": "display_data"
    }
   ],
   "source": [
    "int_range = widgets.IntSlider()\n",
    "output2 = widgets.Output()\n",
    "\n",
    "display(int_range, output2)\n",
    "\n",
    "def on_value_change(change):\n",
    "    with output2:\n",
    "        print(change['new'])\n",
    "\n",
    "int_range.observe(on_value_change, names='value')"
   ]
  },
  {
   "cell_type": "markdown",
   "id": "91f8f2d5-b4f2-4750-b5d2-73b7410efebd",
   "metadata": {},
   "source": [
    "## Interact\n",
    "- `@interact` 데코레이터를 사용하면 UI가 생성됨"
   ]
  },
  {
   "cell_type": "code",
   "execution_count": 95,
   "id": "6323322b-4b1b-43fd-ad0c-de7398c0e2e6",
   "metadata": {},
   "outputs": [],
   "source": [
    "from ipywidgets import interact, interactive, fixed, interact_manual"
   ]
  },
  {
   "cell_type": "code",
   "execution_count": 96,
   "id": "8e923503-97ac-4e80-9aa9-d378df70b489",
   "metadata": {},
   "outputs": [
    {
     "data": {
      "application/vnd.jupyter.widget-view+json": {
       "model_id": "107e779e652c4cf6b6fb5e5f74a868e0",
       "version_major": 2,
       "version_minor": 0
      },
      "text/plain": [
       "interactive(children=(Checkbox(value=True, description='x'), FloatSlider(value=1.0, description='y', max=3.0, …"
      ]
     },
     "metadata": {},
     "output_type": "display_data"
    }
   ],
   "source": [
    "@interact(x=True, y=1.0)\n",
    "def g(x, y):\n",
    "    return (x, y)"
   ]
  },
  {
   "cell_type": "markdown",
   "id": "d03aaf5d-887b-455f-a455-95dde6a1bccd",
   "metadata": {},
   "source": [
    "### Box\n",
    "- HBox, VBox"
   ]
  },
  {
   "cell_type": "code",
   "execution_count": 116,
   "id": "ac5f7a03-0c52-4a3a-9f68-5976e4652fb4",
   "metadata": {},
   "outputs": [
    {
     "data": {
      "application/vnd.jupyter.widget-view+json": {
       "model_id": "9f5a99cc935648b3884c50c768456e3b",
       "version_major": 2,
       "version_minor": 0
      },
      "text/plain": [
       "VBox(children=(IntSlider(value=1, description='$x$'),))"
      ]
     },
     "metadata": {},
     "output_type": "display_data"
    }
   ],
   "source": [
    "slider = widgets.IntSlider(description=\"$x$\", value=1)\n",
    "widgets.VBox([slider])"
   ]
  },
  {
   "cell_type": "code",
   "execution_count": 117,
   "id": "07e34093-8244-4436-9f36-cd76d38a88b9",
   "metadata": {},
   "outputs": [
    {
     "data": {
      "application/vnd.jupyter.widget-view+json": {
       "model_id": "7057af308c684d7aa5358d360915c9fb",
       "version_major": 2,
       "version_minor": 0
      },
      "text/plain": [
       "HBox(children=(VBox(children=(Button(description='correct', style=ButtonStyle()), Button(description='horse', …"
      ]
     },
     "metadata": {},
     "output_type": "display_data"
    }
   ],
   "source": [
    "from ipywidgets import Button, HBox, VBox\n",
    "\n",
    "words = ['correct', 'horse', 'battery', 'staple']\n",
    "items = [Button(description=w) for w in words]\n",
    "left_box = VBox([items[0], items[1]])\n",
    "right_box = VBox([items[2], items[3]])\n",
    "HBox([left_box, right_box])"
   ]
  },
  {
   "cell_type": "markdown",
   "id": "e57b73b3-f3f9-41ed-b9ff-b1ae082f2d4e",
   "metadata": {},
   "source": [
    "### 활용 예시"
   ]
  },
  {
   "cell_type": "code",
   "execution_count": 119,
   "id": "2e2d16ed-5263-49c8-9ec9-e8def83af171",
   "metadata": {},
   "outputs": [
    {
     "data": {
      "application/vnd.jupyter.widget-view+json": {
       "model_id": "6db32c10556144f0ab512e2a69d56d3c",
       "version_major": 2,
       "version_minor": 0
      },
      "text/plain": [
       "VBox(children=(FloatSlider(value=4.0, description='$x$'), FloatText(value=0.0, description='$x^2$', disabled=T…"
      ]
     },
     "metadata": {},
     "output_type": "display_data"
    }
   ],
   "source": [
    "slider = widgets.FloatSlider(description=\"$x$\", value=4)\n",
    "text = widgets.FloatText(disabled=True, description=\"$x^2$\")\n",
    "\n",
    "def compute(*ignore):\n",
    "    text.value = str(slider.value ** 2)\n",
    "    \n",
    "slider.observe(compute, 'value')\n",
    "widgets.VBox([slider, text])"
   ]
  },
  {
   "cell_type": "code",
   "execution_count": null,
   "id": "693dbce4-b6b5-4da8-b3ab-2372d2395932",
   "metadata": {},
   "outputs": [],
   "source": []
  }
 ],
 "metadata": {
  "kernelspec": {
   "display_name": "Python 3",
   "language": "python",
   "name": "python3"
  },
  "language_info": {
   "codemirror_mode": {
    "name": "ipython",
    "version": 3
   },
   "file_extension": ".py",
   "mimetype": "text/x-python",
   "name": "python",
   "nbconvert_exporter": "python",
   "pygments_lexer": "ipython3",
   "version": "3.7.1"
  }
 },
 "nbformat": 4,
 "nbformat_minor": 5
}
